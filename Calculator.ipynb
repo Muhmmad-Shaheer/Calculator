{
 "cells": [
  {
   "cell_type": "code",
   "execution_count": null,
   "id": "e811cd5f",
   "metadata": {},
   "outputs": [
    {
     "name": "stdout",
     "output_type": "stream",
     "text": [
      "Press'1' for Addition\n",
      "Press'2' for Subtraction\n",
      "Press'3' for Multiplication\n",
      "Press'4' for Divison\n",
      "Press X or x to exit the progam\n",
      "Enter your choice:w\n",
      "Enter the first number:23\n",
      "Enter the second number:333.4\n",
      "Invalid Choice\n",
      "Press'1' for Addition\n",
      "Press'2' for Subtraction\n",
      "Press'3' for Multiplication\n",
      "Press'4' for Divison\n",
      "Press X or x to exit the progam\n"
     ]
    }
   ],
   "source": [
    "# Calculator Program\n",
    "\n",
    "# We use a while loop so the program doesn't terminate once the code is run,which saves time as the program won't have to be run again and again.\n",
    "\n",
    "while True:\n",
    "    \n",
    "# Print all the available operations in your program.   \n",
    "\n",
    "    print(\"Press'1' for Addition\")\n",
    "    print(\"Press'2' for Subtraction\")\n",
    "    print(\"Press'3' for Multiplication\")\n",
    "    print(\"Press'4' for Divison\")\n",
    "    print(\"Press X or x to exit the progam\")\n",
    "\n",
    "# We take an input as choice from user to represent the operation to be performed.\n",
    "\n",
    "    choice = input(\"Enter your choice:\")\n",
    " \n",
    "# The while loop will run the program continously, to terminate the program if the user wants to, we define this event which will break the loop.\n",
    " \n",
    "    if choice == \"X\" or choice == \"x\":\n",
    "        break\n",
    "    \n",
    "# Taking input of 2 numbers from user:    \n",
    "\n",
    "    num1 = float(input(\"Enter the first number:\"))\n",
    "    num2 = float(input(\"Enter the second number:\"))\n",
    "    \n",
    "   \n",
    "# Setting conditions according to the choice of the user:\n",
    "     \n",
    "    if choice == \"1\":\n",
    "        print(num1 , \"+\" , num2  , \"=\", (num1+num2))\n",
    "    elif choice == \"2\":\n",
    "        print(num1 , \"-\" , num2 ,  \"=\", (num1-num2))\n",
    "    elif choice == \"3\":\n",
    "        print(num1 , \"*\" , num2 ,  \"=\", (num1*num2))\n",
    "    elif choice == \"4\":   \n",
    "        if num2 == 0.0:\n",
    "            print(\"Divide by 0 error\")\n",
    "        else:\n",
    "            print(num1 , \"/\" , num2 , \"=\", (num1/num2))\n",
    "            \n",
    "        \n",
    " # If the user enters values except numbers of float, this event takes place.\n",
    "\n",
    "    else:\n",
    "        print(\"Invalid Choice\")"
   ]
  },
  {
   "cell_type": "code",
   "execution_count": null,
   "id": "94de68b2",
   "metadata": {},
   "outputs": [],
   "source": []
  }
 ],
 "metadata": {
  "kernelspec": {
   "display_name": "Python 3 (ipykernel)",
   "language": "python",
   "name": "python3"
  },
  "language_info": {
   "codemirror_mode": {
    "name": "ipython",
    "version": 3
   },
   "file_extension": ".py",
   "mimetype": "text/x-python",
   "name": "python",
   "nbconvert_exporter": "python",
   "pygments_lexer": "ipython3",
   "version": "3.8.7"
  }
 },
 "nbformat": 4,
 "nbformat_minor": 5
}
